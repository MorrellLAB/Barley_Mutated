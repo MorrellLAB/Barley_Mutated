{
 "cells": [
  {
   "cell_type": "code",
   "execution_count": 1,
   "id": "minus-learning",
   "metadata": {},
   "outputs": [
    {
     "name": "stdout",
     "output_type": "stream",
     "text": [
      "scikit-allel 1.3.5\n"
     ]
    }
   ],
   "source": [
    "import numpy as np\n",
    "import scipy\n",
    "import pandas\n",
    "import matplotlib as mpl\n",
    "import matplotlib.pyplot as plt\n",
    "%matplotlib inline\n",
    "import seaborn as sns\n",
    "sns.set_style('white')\n",
    "sns.set_style('ticks')\n",
    "sns.set_context('notebook')\n",
    "import h5py\n",
    "import allel; print('scikit-allel', allel.__version__)"
   ]
  },
  {
   "cell_type": "markdown",
   "id": "august-purchase",
   "metadata": {},
   "source": [
    "## Function definitions"
   ]
  },
  {
   "cell_type": "code",
   "execution_count": 2,
   "id": "assigned-brunswick",
   "metadata": {},
   "outputs": [],
   "source": [
    "def plot_hist(x, f, bins=30, xlim=100, neglim=0):\n",
    "    fig, ax = plt.subplots(figsize=(7, 5))\n",
    "    sns.despine(ax=ax, offset=10)\n",
    "    ax.hist(x, bins=bins)\n",
    "    ax.set_xlabel(f)\n",
    "    ax.set_xlim(neglim, xlim)\n",
    "    ax.set_ylabel('No. variants')\n",
    "    ax.set_title('Variant %s distribution' % f)"
   ]
  },
  {
   "cell_type": "code",
   "execution_count": 3,
   "id": "determined-merchant",
   "metadata": {},
   "outputs": [],
   "source": [
    "def summary_stats(x, f, low, high):\n",
    "    avg = np.mean(x)\n",
    "    dev = np.std(x)\n",
    "    low_thresh = np.percentile(x, low)\n",
    "    high_thresh = np.percentile(x, high)\n",
    "    print(\"Given %d variants, we have the following stats for %s:\\nMean: %f\\\n",
    "            \\nSt. Deviation: %f\\n%dth percentile: %f\\n%dth percentile: %f\\n\"\n",
    "          % (len(x), f, avg, dev, low, low_thresh, high, high_thresh))"
   ]
  },
  {
   "cell_type": "markdown",
   "id": "employed-platinum",
   "metadata": {},
   "source": [
    "## morex-sample2 exploration"
   ]
  },
  {
   "cell_type": "code",
   "execution_count": 5,
   "id": "cross-belief",
   "metadata": {},
   "outputs": [],
   "source": [
    "# Unfiltered VCF\n",
    "#fp = \"/panfs/roc/groups/9/morrellp/shared/Projects/Mutant_Barley/longranger_morex_v2/morex-sample2/morex-sample2_concat_sorted.vcf\"\n",
    "# After filtering using 10x Genomics tuned filters\n",
    "vcf_fp = \"/panfs/roc/groups/9/morrellp/shared/Projects/Mutant_Barley/longranger_morex_v2/morex-sample2/Filtered/morex-sample2_filtered_pass1.vcf\"\n",
    "h5_fp = \"/panfs/roc/groups/9/morrellp/shared/Projects/Mutant_Barley/longranger_morex_v2/morex-sample2/Filtered/morex-sample2_filtered_pass1.h5\""
   ]
  },
  {
   "cell_type": "markdown",
   "id": "acknowledged-burst",
   "metadata": {},
   "source": [
    "Convert to h5 format if it doesn't exist already by running the following:\n",
    "\n",
    "```Python\n",
    "allel.vcf_to_hdf5(vcf_fp, h5_fp, fields='*', overwrite=True)\n",
    "```"
   ]
  },
  {
   "cell_type": "code",
   "execution_count": 6,
   "id": "considerable-christian",
   "metadata": {},
   "outputs": [],
   "source": [
    "# Convert VCF to h5 format\n",
    "allel.vcf_to_hdf5(vcf_fp, h5_fp, fields='*', overwrite=True)"
   ]
  },
  {
   "cell_type": "code",
   "execution_count": 7,
   "id": "built-moral",
   "metadata": {},
   "outputs": [],
   "source": [
    "# Read in h5 file\n",
    "callset = h5py.File(h5_fp, mode='r')"
   ]
  },
  {
   "cell_type": "code",
   "execution_count": 8,
   "id": "biological-cookbook",
   "metadata": {},
   "outputs": [
    {
     "data": {
      "text/plain": [
       "<KeysViewHDF5 ['calldata', 'samples', 'variants']>"
      ]
     },
     "execution_count": 8,
     "metadata": {},
     "output_type": "execute_result"
    }
   ],
   "source": [
    "callset.keys()"
   ]
  },
  {
   "cell_type": "code",
   "execution_count": 9,
   "id": "focal-joshua",
   "metadata": {},
   "outputs": [],
   "source": [
    "# VCF column names and info in INFO field\n",
    "variants = allel.VariantChunkedTable(callset['variants'],\n",
    "                                    names=['CHROM', 'POS', 'REF', 'ALT', 'QUAL', 'DP', 'MQM', 'MQMR', 'AC'])"
   ]
  },
  {
   "cell_type": "code",
   "execution_count": 10,
   "id": "accepted-abortion",
   "metadata": {},
   "outputs": [
    {
     "data": {
      "text/html": [
       "<div class=\"allel allel-DisplayAsTable\"><span>&lt;VariantChunkedTable shape=(765595,) dtype=[('CHROM', 'O'), ('POS', '&lt;i4'), ('REF', 'O'), ('ALT', 'O', (3,)), ('QUAL', '&lt;f4'), ('DP', '&lt;i4'), ('MQM', '&lt;f4', (3,)), ('MQMR', '&lt;f4'), ('AC', '&lt;i4', (3,))]\n",
       "   nbytes=58.4M cbytes=15.0M cratio=3.9\n",
       "   values=h5py._hl.group.Group&gt;</span><table><thead><tr><th></th><th style=\"text-align: center\">CHROM</th><th style=\"text-align: center\">POS</th><th style=\"text-align: center\">REF</th><th style=\"text-align: center\">ALT</th><th style=\"text-align: center\">QUAL</th><th style=\"text-align: center\">DP</th><th style=\"text-align: center\">MQM</th><th style=\"text-align: center\">MQMR</th><th style=\"text-align: center\">AC</th></tr></thead><tbody><tr><th style=\"text-align: center; background-color: white; border-right: 1px solid black; \">0</th><td style=\"text-align: center\">chr1H_part1</td><td style=\"text-align: center\">91</td><td style=\"text-align: center\">A</td><td style=\"text-align: center\">['T' '' '']</td><td style=\"text-align: center\">21.4882</td><td style=\"text-align: center\">13</td><td style=\"text-align: center\">[37.5  nan  nan]</td><td style=\"text-align: center\">32.8889</td><td style=\"text-align: center\">[ 1 -1 -1]</td></tr><tr><th style=\"text-align: center; background-color: white; border-right: 1px solid black; \">1</th><td style=\"text-align: center\">chr1H_part1</td><td style=\"text-align: center\">2156</td><td style=\"text-align: center\">T</td><td style=\"text-align: center\">['TG' '' '']</td><td style=\"text-align: center\">107.441</td><td style=\"text-align: center\">36</td><td style=\"text-align: center\">[52.6667     nan     nan]</td><td style=\"text-align: center\">59.7308</td><td style=\"text-align: center\">[ 1 -1 -1]</td></tr><tr><th style=\"text-align: center; background-color: white; border-right: 1px solid black; \">2</th><td style=\"text-align: center\">chr1H_part1</td><td style=\"text-align: center\">2958</td><td style=\"text-align: center\">G</td><td style=\"text-align: center\">['C' '' '']</td><td style=\"text-align: center\">32.5539</td><td style=\"text-align: center\">28</td><td style=\"text-align: center\">[39.6667     nan     nan]</td><td style=\"text-align: center\">49.0455</td><td style=\"text-align: center\">[ 1 -1 -1]</td></tr><tr><th style=\"text-align: center; background-color: white; border-right: 1px solid black; \">...</th><td style=\"text-align: center\" colspan=\"10\">...</td></tr><tr><th style=\"text-align: center; background-color: white; border-right: 1px solid black; \">765592</th><td style=\"text-align: center\">chr7H_part2</td><td style=\"text-align: center\">305816491</td><td style=\"text-align: center\">T</td><td style=\"text-align: center\">['C' '' '']</td><td style=\"text-align: center\">412.458</td><td style=\"text-align: center\">23</td><td style=\"text-align: center\">[39.8333     nan     nan]</td><td style=\"text-align: center\">42.0</td><td style=\"text-align: center\">[ 2 -1 -1]</td></tr><tr><th style=\"text-align: center; background-color: white; border-right: 1px solid black; \">765593</th><td style=\"text-align: center\">chr7H_part2</td><td style=\"text-align: center\">305816672</td><td style=\"text-align: center\">G</td><td style=\"text-align: center\">['T' '' '']</td><td style=\"text-align: center\">15.1211</td><td style=\"text-align: center\">4</td><td style=\"text-align: center\">[37. nan nan]</td><td style=\"text-align: center\">49.5</td><td style=\"text-align: center\">[ 1 -1 -1]</td></tr><tr><th style=\"text-align: center; background-color: white; border-right: 1px solid black; \">765594</th><td style=\"text-align: center\">chr7H_part2</td><td style=\"text-align: center\">305817173</td><td style=\"text-align: center\">G</td><td style=\"text-align: center\">['A' '' '']</td><td style=\"text-align: center\">159.278</td><td style=\"text-align: center\">7</td><td style=\"text-align: center\">[43.2857     nan     nan]</td><td style=\"text-align: center\">0.0</td><td style=\"text-align: center\">[ 2 -1 -1]</td></tr></tbody></table></div>"
      ],
      "text/plain": [
       "<VariantChunkedTable shape=(765595,) dtype=[('CHROM', 'O'), ('POS', '<i4'), ('REF', 'O'), ('ALT', 'O', (3,)), ('QUAL', '<f4'), ('DP', '<i4'), ('MQM', '<f4', (3,)), ('MQMR', '<f4'), ('AC', '<i4', (3,))]\n",
       "   nbytes=58.4M cbytes=15.0M cratio=3.9\n",
       "   values=h5py._hl.group.Group>"
      ]
     },
     "execution_count": 10,
     "metadata": {},
     "output_type": "execute_result"
    }
   ],
   "source": [
    "variants"
   ]
  },
  {
   "cell_type": "markdown",
   "id": "strategic-facing",
   "metadata": {},
   "source": [
    "### Per sample DP"
   ]
  },
  {
   "cell_type": "code",
   "execution_count": 11,
   "id": "painted-practice",
   "metadata": {},
   "outputs": [],
   "source": [
    "# Pull per sample DP\n",
    "per_samp_DP = callset['calldata/DP'][:,:].flatten()"
   ]
  },
  {
   "cell_type": "code",
   "execution_count": 12,
   "id": "suffering-farmer",
   "metadata": {},
   "outputs": [
    {
     "name": "stdout",
     "output_type": "stream",
     "text": [
      "Given 765595 variants, we have the following stats for DP:\n",
      "Mean: 45.049309            \n",
      "St. Deviation: 411.379506\n",
      "10th percentile: -1.000000\n",
      "95th percentile: 78.000000\n",
      "\n"
     ]
    }
   ],
   "source": [
    "# Number of variants before filtering on DP\n",
    "summary_stats(per_samp_DP, 'DP', 10, 95)"
   ]
  },
  {
   "cell_type": "code",
   "execution_count": 13,
   "id": "damaged-ocean",
   "metadata": {},
   "outputs": [
    {
     "data": {
      "image/png": "[encoded data removed]",
      "text/plain": [
       "<Figure size 504x360 with 1 Axes>"
      ]
     },
     "metadata": {},
     "output_type": "display_data"
    }
   ],
   "source": [
    "# Per sample DP distribution\n",
    "plot_hist(per_samp_DP, 'DP', bins=6000, xlim=220)"
   ]
  },
  {
   "cell_type": "code",
   "execution_count": 14,
   "id": "strong-stationery",
   "metadata": {},
   "outputs": [
    {
     "data": {
      "text/plain": [
       "array([13, 28, 34, ...,  7, 23,  7], dtype=int16)"
      ]
     },
     "execution_count": 14,
     "metadata": {},
     "output_type": "execute_result"
    }
   ],
   "source": [
    "# Explore DP filters\n",
    "dp_filt = per_samp_DP[(per_samp_DP > 5) & (per_samp_DP < 78)]\n",
    "dp_filt"
   ]
  },
  {
   "cell_type": "code",
   "execution_count": 15,
   "id": "joined-array",
   "metadata": {},
   "outputs": [
    {
     "data": {
      "text/plain": [
       "403756"
      ]
     },
     "execution_count": 15,
     "metadata": {},
     "output_type": "execute_result"
    }
   ],
   "source": [
    "len(dp_filt)"
   ]
  },
  {
   "cell_type": "code",
   "execution_count": 16,
   "id": "planned-knitting",
   "metadata": {},
   "outputs": [
    {
     "data": {
      "image/png": "[encoded data removed]",
      "text/plain": [
       "<Figure size 504x360 with 1 Axes>"
      ]
     },
     "metadata": {},
     "output_type": "display_data"
    }
   ],
   "source": [
    "# Plot filtered dataset\n",
    "plot_hist(dp_filt, 'DP', bins=20, xlim=220)"
   ]
  },
  {
   "cell_type": "markdown",
   "id": "reflected-basement",
   "metadata": {},
   "source": [
    "### QUAL"
   ]
  },
  {
   "cell_type": "code",
   "execution_count": 17,
   "id": "parliamentary-bulgarian",
   "metadata": {},
   "outputs": [
    {
     "data": {
      "text/plain": [
       "array([ 21.4882, 107.441 ,  32.5539, ..., 412.458 ,  15.1211, 159.278 ],\n",
       "      dtype=float32)"
      ]
     },
     "execution_count": 17,
     "metadata": {},
     "output_type": "execute_result"
    }
   ],
   "source": [
    "# Pull QUAL\n",
    "tmp_qual_var = callset['variants/QUAL'][:].flatten()\n",
    "# There are nan values present, remove before proceeding\n",
    "qual_var = tmp_qual_var[np.logical_not(np.isnan(tmp_qual_var))]\n",
    "qual_var"
   ]
  },
  {
   "cell_type": "code",
   "execution_count": 18,
   "id": "heavy-emperor",
   "metadata": {},
   "outputs": [
    {
     "name": "stdout",
     "output_type": "stream",
     "text": [
      "Given 759086 variants, we have the following stats for QUAL:\n",
      "Mean: 1126.008423            \n",
      "St. Deviation: 10477.655273\n",
      "5th percentile: 24.169200\n",
      "95th percentile: 1953.022522\n",
      "\n"
     ]
    }
   ],
   "source": [
    "# Number of variants before filtering on QUAL\n",
    "summary_stats(qual_var, 'QUAL', 5, 95)"
   ]
  },
  {
   "cell_type": "markdown",
   "id": "supposed-omaha",
   "metadata": {},
   "source": [
    "We don't need to do an additional filter on QUAL because we have already filtered on the 10x Genomics data tuned QUAL filter. See documentation for more details: https://support.10xgenomics.com/genome-exome/software/pipelines/latest/output/vcf"
   ]
  },
  {
   "cell_type": "markdown",
   "id": "continuing-enclosure",
   "metadata": {},
   "source": [
    "### Per sample GQ"
   ]
  },
  {
   "cell_type": "markdown",
   "id": "excessive-ideal",
   "metadata": {},
   "source": [
    "We can't filter on per sample GQ because the 10x Genomics VCF doesn't have this metric."
   ]
  },
  {
   "cell_type": "code",
   "execution_count": null,
   "id": "jewish-saver",
   "metadata": {},
   "outputs": [],
   "source": []
  },
  {
   "cell_type": "code",
   "execution_count": 72,
   "id": "thorough-singer",
   "metadata": {},
   "outputs": [
    {
     "data": {
      "text/plain": [
       "<HDF5 dataset \"GT\": shape (819993, 1, 2), type \"|i1\">"
      ]
     },
     "execution_count": 72,
     "metadata": {},
     "output_type": "execute_result"
    }
   ],
   "source": [
    "callset['calldata/GT']"
   ]
  },
  {
   "cell_type": "code",
   "execution_count": null,
   "id": "widespread-secret",
   "metadata": {},
   "outputs": [],
   "source": []
  }
 ],
 "metadata": {
  "kernelspec": {
   "display_name": "Python3.8.3",
   "language": "python",
   "name": "python3.8.3"
  },
  "language_info": {
   "codemirror_mode": {
    "name": "ipython",
    "version": 3
   },
   "file_extension": ".py",
   "mimetype": "text/x-python",
   "name": "python",
   "nbconvert_exporter": "python",
   "pygments_lexer": "ipython3",
   "version": "3.8.3"
  }
 },
 "nbformat": 4,
 "nbformat_minor": 5
}
